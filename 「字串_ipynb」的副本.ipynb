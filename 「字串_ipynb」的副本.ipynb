{
  "nbformat": 4,
  "nbformat_minor": 0,
  "metadata": {
    "colab": {
      "provenance": [],
      "toc_visible": true,
      "mount_file_id": "1lG0mo8mwr5XXR6hkw6bAUf-2SnWKRgDn",
      "authorship_tag": "ABX9TyOzEB4hnjPtiTsqPDxEGvDS",
      "include_colab_link": true
    },
    "kernelspec": {
      "name": "python3",
      "display_name": "Python 3"
    },
    "language_info": {
      "name": "python"
    }
  },
  "cells": [
    {
      "cell_type": "markdown",
      "metadata": {
        "id": "view-in-github",
        "colab_type": "text"
      },
      "source": [
        "<a href=\"https://colab.research.google.com/github/mrtony/PythonCoding/blob/testing/%E3%80%8C%E5%AD%97%E4%B8%B2_ipynb%E3%80%8D%E7%9A%84%E5%89%AF%E6%9C%AC.ipynb\" target=\"_parent\"><img src=\"https://colab.research.google.com/assets/colab-badge.svg\" alt=\"Open In Colab\"/></a>"
      ]
    },
    {
      "cell_type": "code",
      "source": [
        "str = \"Hello world1\"\n",
        "print(str[:])"
      ],
      "metadata": {
        "id": "4fT3aGUIlBZ6",
        "outputId": "9512e5a6-cd5f-4c48-93cb-59e42cd6adbe",
        "colab": {
          "base_uri": "https://localhost:8080/"
        }
      },
      "execution_count": null,
      "outputs": [
        {
          "output_type": "stream",
          "name": "stdout",
          "text": [
            "d\n"
          ]
        }
      ]
    }
  ]
}